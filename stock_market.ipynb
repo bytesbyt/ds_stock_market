{
 "cells": [
  {
   "cell_type": "code",
   "execution_count": null,
   "metadata": {},
   "outputs": [],
   "source": [
    "import os\n",
    "import pandas as pd\n",
    "import numpy as np\n",
    "import requests\n",
    "import json\n",
    "import yfinance as yf\n",
    "import seaborn as sns\n",
    "from dotenv import load_dotenv\n",
    "from openai import OpenAI\n",
    "from sklearn.model_selection import train_test_split\n",
    "from sklearn.preprocessing import StandardScaler, MinMaxScaler, RobustScaler\n",
    "from sklearn.linear_model import LinearRegression\n",
    "from sklearn import metrics\n",
    "from sklearn.svm import SVR\n",
    "from sklearn.ensemble import RandomForestRegressor\n",
    "import matplotlib.pyplot as plt\n",
    "from sklearn.metrics import accuracy_score\n",
    "from sklearn.pipeline import Pipeline\n",
    "from xgboost import XGBRegressor\n",
    "from sklearn.metrics import mean_squared_error, mean_absolute_error, r2_score"
   ]
  },
  {
   "cell_type": "code",
   "execution_count": null,
   "metadata": {},
   "outputs": [],
   "source": [
    "# Load .env file\n",
    "load_dotenv()"
   ]
  },
  {
   "cell_type": "code",
   "execution_count": null,
   "metadata": {},
   "outputs": [],
   "source": [
    "# Check if the environment variable is set for Open AI API\n",
    "api_key = os.getenv(\"OPENAI_API_KEY\")\n",
    "if api_key is None:\n",
    "    raise ValueError(\"The environment variable 'OPENAI_API_KEY' is not set.\")"
   ]
  },
  {
   "cell_type": "code",
   "execution_count": null,
   "metadata": {},
   "outputs": [],
   "source": [
    "# Check if the environment variable is set for Vantage API\n",
    "van_api_key = os.getenv(\"VANTAGE_API_KEY\")\n",
    "if van_api_key is None:\n",
    "    raise ValueError(\"The environment variable 'VANTAGE_API_KEY' is not set.\")"
   ]
  },
  {
   "cell_type": "code",
   "execution_count": null,
   "metadata": {},
   "outputs": [],
   "source": [
    "# Stock symbol for S&P 500\n",
    "symbol = \"SPY\"\n",
    "\n",
    "# API URL for real-time stock data\n",
    "stock_url = f\"https://www.alphavantage.co/query?function=TIME_SERIES_DAILY&symbol={symbol}&outputsize=full&apikey={van_api_key}\"\n",
    "\n",
    "# Fetch stock data\n",
    "response = requests.get(stock_url)\n",
    "\n",
    "stock_data = response.json()\n",
    "\n",
    "print(stock_data)"
   ]
  },
  {
   "cell_type": "code",
   "execution_count": null,
   "metadata": {},
   "outputs": [],
   "source": [
    "# Extract time series data\n",
    "time_series = stock_data[\"Time Series (Daily)\"]\n",
    "# Prints daily stock price data\n",
    "print(time_series)"
   ]
  },
  {
   "cell_type": "code",
   "execution_count": null,
   "metadata": {},
   "outputs": [],
   "source": [
    "# Convert to DataFrame\n",
    "df = pd.DataFrame.from_dict(time_series, orient=\"index\")\n",
    "df"
   ]
  },
  {
   "cell_type": "code",
   "execution_count": null,
   "metadata": {},
   "outputs": [],
   "source": [
    "# Rename columns for readability\n",
    "df.columns = [\"open\", \"high\", \"low\", \"close\", \"volume\"]\n",
    "df"
   ]
  },
  {
   "cell_type": "code",
   "execution_count": null,
   "metadata": {},
   "outputs": [],
   "source": [
    "df.info()"
   ]
  },
  {
   "cell_type": "code",
   "execution_count": null,
   "metadata": {},
   "outputs": [],
   "source": [
    "# Convert data types\n",
    "df = df.astype(float)"
   ]
  },
  {
   "cell_type": "code",
   "execution_count": null,
   "metadata": {},
   "outputs": [],
   "source": [
    "df.info()"
   ]
  },
  {
   "cell_type": "code",
   "execution_count": null,
   "metadata": {},
   "outputs": [],
   "source": [
    "# Reset index to make the date a column\n",
    "df = df.reset_index()"
   ]
  },
  {
   "cell_type": "code",
   "execution_count": null,
   "metadata": {},
   "outputs": [],
   "source": [
    "# Rename the new column to \"date\" (if it’s not automatically named)\n",
    "df = df.rename(columns={\"index\": \"date\"})\n",
    "df"
   ]
  },
  {
   "cell_type": "code",
   "execution_count": null,
   "metadata": {},
   "outputs": [],
   "source": [
    "# Convert to datetime format (recommended)\n",
    "df[\"date\"] = pd.to_datetime(df[\"date\"])\n",
    "\n",
    "# Display the DataFrame\n",
    "df"
   ]
  },
  {
   "cell_type": "code",
   "execution_count": null,
   "metadata": {},
   "outputs": [],
   "source": [
    "df.info()"
   ]
  },
  {
   "cell_type": "code",
   "execution_count": null,
   "metadata": {},
   "outputs": [],
   "source": [
    "df.isnull().sum()"
   ]
  },
  {
   "cell_type": "code",
   "execution_count": null,
   "metadata": {},
   "outputs": [],
   "source": [
    "df.describe()"
   ]
  },
  {
   "cell_type": "code",
   "execution_count": null,
   "metadata": {},
   "outputs": [],
   "source": [
    "# Correlation between the variable\n",
    "corr_matrix = df[['open', 'high', 'low', 'close', 'volume']].corr()\n",
    "corr_matrix"
   ]
  },
  {
   "cell_type": "code",
   "execution_count": null,
   "metadata": {},
   "outputs": [],
   "source": [
    "# Visualize the correlation matrix\n",
    "plt.figure(figsize=(5,5))\n",
    "sns.heatmap(corr_matrix, annot=True)"
   ]
  },
  {
   "cell_type": "code",
   "execution_count": null,
   "metadata": {},
   "outputs": [],
   "source": [
    "# Visualization of the closing price and the date\n",
    "plt.figure(figsize=(10,10))\n",
    "plt.title('CLosing price history of SPY')\n",
    "plt.plot(df['date'], df['close'])\n",
    "plt.xlabel('Date')\n",
    "plt.ylabel('Closing price (USD)')\n",
    "plt.show()"
   ]
  },
  {
   "cell_type": "code",
   "execution_count": null,
   "metadata": {},
   "outputs": [],
   "source": [
    "df.head()"
   ]
  },
  {
   "cell_type": "code",
   "execution_count": null,
   "metadata": {},
   "outputs": [],
   "source": [
    "# Build the machine learning algorithm\n",
    "X = df[['open', 'high', 'low', 'volume']].values\n",
    "y = df['close'].values"
   ]
  },
  {
   "cell_type": "code",
   "execution_count": null,
   "metadata": {},
   "outputs": [],
   "source": [
    "# Data spliting\n",
    "X_train, X_test, y_train, y_test = train_test_split(X, y, test_size=0.20, random_state=42)"
   ]
  },
  {
   "cell_type": "code",
   "execution_count": null,
   "metadata": {},
   "outputs": [],
   "source": [
    "X_train"
   ]
  },
  {
   "cell_type": "code",
   "execution_count": null,
   "metadata": {},
   "outputs": [],
   "source": [
    "# Feature scaling\n",
    "# Standard scaler - mean of 0 and a standard deviation of 1\n",
    "# Minmaxscaler \n",
    "sc = StandardScaler()\n",
    "X_train = sc.fit_transform(X_train)\n",
    "X_test = sc.transform(X_test)"
   ]
  },
  {
   "cell_type": "code",
   "execution_count": null,
   "metadata": {},
   "outputs": [],
   "source": [
    "# Multi linear regression\n",
    "lin_reg = LinearRegression()\n",
    "lin_reg.fit(X_train, y_train)"
   ]
  },
  {
   "cell_type": "code",
   "execution_count": null,
   "metadata": {},
   "outputs": [],
   "source": [
    "# Prediction on the test set\n",
    "y_pred_mlr = lin_reg.predict(X_test)"
   ]
  },
  {
   "cell_type": "code",
   "execution_count": null,
   "metadata": {},
   "outputs": [],
   "source": [
    "# Put in a dataframe\n",
    "pd.DataFrame({'Actual value': y_test, 'Predicted value': y_pred_mlr})"
   ]
  },
  {
   "cell_type": "code",
   "execution_count": null,
   "metadata": {},
   "outputs": [],
   "source": [
    "# model evaluation: LinearRegression\n",
    "# r2, mean absolute error, mean square error, root mean square error\n",
    "# 0, 1\n",
    "# mae must have a lower mae 0. \n",
    "# mse --o.\n",
    "# rmse 0. \n",
    "r2 = metrics.r2_score(y_test, y_pred_mlr)\n",
    "meanABerr = metrics.mean_absolute_error(y_test, y_pred_mlr)\n",
    "meanSqErr = metrics.mean_squared_error(y_test, y_pred_mlr)\n",
    "rootMeanSqErr = np.sqrt(metrics.mean_squared_error(y_test, y_pred_mlr))\n",
    "print('R2:',r2)\n",
    "print('Mean Absolute Error:',meanABerr)\n",
    "print('Mean Square Error:',meanSqErr)\n",
    "print('Root Mean Square Error:',rootMeanSqErr)"
   ]
  },
  {
   "cell_type": "code",
   "execution_count": null,
   "metadata": {},
   "outputs": [],
   "source": [
    "# Support vector regression\n",
    "# Radial basis function\n",
    "svr = SVR(kernel = 'linear')\n",
    "svr.fit(X_train, y_train)"
   ]
  },
  {
   "cell_type": "code",
   "execution_count": null,
   "metadata": {},
   "outputs": [],
   "source": [
    "# Prediction on the test data\n",
    "y_pred_svr = svr.predict(X_test)"
   ]
  },
  {
   "cell_type": "code",
   "execution_count": null,
   "metadata": {},
   "outputs": [],
   "source": [
    "# Put in a dataframe\n",
    "pd.DataFrame({'Actual value': y_test, 'Predicted value': y_pred_svr})"
   ]
  },
  {
   "cell_type": "code",
   "execution_count": null,
   "metadata": {},
   "outputs": [],
   "source": [
    "# Model evaluation: SVR\n",
    "# r2, mean absolute error, mean square error, root mean square error\n",
    "# 0, 1\n",
    "# mae must have a lower mae 0. \n",
    "# mse --o.\n",
    "# rmse 0. \n",
    "r2 = metrics.r2_score(y_test, y_pred_svr)\n",
    "meanABerr = metrics.mean_absolute_error(y_test, y_pred_svr)\n",
    "meanSqErr = metrics.mean_squared_error(y_test, y_pred_svr)\n",
    "rootMeanSqErr = np.sqrt(metrics.mean_squared_error(y_test, y_pred_svr))\n",
    "print('R2:',r2)\n",
    "print('Mean Absolute Error:',meanABerr)\n",
    "print('Mean Square Error:',meanSqErr)\n",
    "print('Root Mean Square Error:',rootMeanSqErr)"
   ]
  },
  {
   "cell_type": "code",
   "execution_count": null,
   "metadata": {},
   "outputs": [],
   "source": [
    "# random forest regression\n",
    "reg = RandomForestRegressor(n_estimators=10)\n",
    "reg.fit(X_train, y_train)"
   ]
  },
  {
   "cell_type": "code",
   "execution_count": null,
   "metadata": {},
   "outputs": [],
   "source": [
    "# prediction on the test data\n",
    "y_pred_rf = reg.predict(X_test)"
   ]
  },
  {
   "cell_type": "code",
   "execution_count": null,
   "metadata": {},
   "outputs": [],
   "source": [
    "# put in a dataframe\n",
    "pd.DataFrame({'Actual value': y_test, 'Predicted value': y_pred_rf })"
   ]
  },
  {
   "cell_type": "code",
   "execution_count": null,
   "metadata": {},
   "outputs": [],
   "source": [
    "# Model evaluation: RandomForestRegressor\n",
    "# r2, mean absolute error, mean square error, root mean square error\n",
    "# 0, 1\n",
    "# mae must have a lower mae 0. \n",
    "# mse --o.\n",
    "# rmse 0. \n",
    "r2 = metrics.r2_score(y_test, y_pred_rf)\n",
    "meanABerr = metrics.mean_absolute_error(y_test, y_pred_rf)\n",
    "meanSqErr = metrics.mean_squared_error(y_test, y_pred_rf)\n",
    "rootMeanSqErr = np.sqrt(metrics.mean_squared_error(y_test, y_pred_rf))\n",
    "print('R2:',r2)\n",
    "print('Mean Absolute Error:',meanABerr)\n",
    "print('Mean Square Error:',meanSqErr)\n",
    "print('Root Mean Square Error:',rootMeanSqErr)"
   ]
  },
  {
   "cell_type": "code",
   "execution_count": null,
   "metadata": {},
   "outputs": [],
   "source": [
    "\n",
    "\n",
    "# Define scalers\n",
    "scalers = {\n",
    "    \"Standard Scaler\": StandardScaler(),\n",
    "    \"Min-Max Scaler\": MinMaxScaler(),\n",
    "    \"Robust Scaler\": RobustScaler()\n",
    "}\n",
    "\n",
    "# Initialize models\n",
    "models = {\n",
    "    \"Linear Regression\": LinearRegression(),\n",
    "    \"Support Vector Regression\": SVR(kernel='linear'),\n",
    "    \"RandomForestRegression\": RandomForestRegressor(n_estimators=10, random_state=42),\n",
    "    \"XGBoost Regression\": XGBRegressor(n_estimators=100, seed=42)\n",
    "}\n",
    "\n",
    "# Dictionary to store all results\n",
    "all_results = {}\n",
    "\n",
    "# Iterate through each scaler and evaluate models\n",
    "for scaler_name, scaler in scalers.items():\n",
    "    results = {\"R² Score\": {}, \"MSE\": {}, \"RMSE\": {}}\n",
    "    \n",
    "    for model_name, model in models.items():\n",
    "        pipeline = Pipeline([\n",
    "            ('scaler', scaler),\n",
    "            ('model', model)\n",
    "        ])\n",
    "        pipeline.fit(X_train, y_train)\n",
    "        predictions = pipeline.predict(X_test)\n",
    "        \n",
    "        # Compute metrics\n",
    "        r2 = r2_score(y_test, predictions)\n",
    "        mse = mean_squared_error(y_test, predictions)\n",
    "        rmse = np.sqrt(mse)\n",
    "        \n",
    "        # Store results\n",
    "        results[\"R² Score\"][model_name] = r2\n",
    "        results[\"MSE\"][model_name] = mse\n",
    "        results[\"RMSE\"][model_name] = rmse\n",
    "    \n",
    "    all_results[scaler_name] = results\n",
    "\n",
    "# Convert results to DataFrame format for R² Score\n",
    "r2_df = pd.DataFrame({scaler: all_results[scaler][\"R² Score\"] for scaler in scalers})\n",
    "mse_df = pd.DataFrame({scaler: all_results[scaler][\"MSE\"] for scaler in scalers})\n",
    "rmse_df = pd.DataFrame({scaler: all_results[scaler][\"RMSE\"] for scaler in scalers})\n",
    "\n",
    "# Print DataFrames\n",
    "print(\"\\nR² Scores:\\n\", r2_df)\n",
    "print(\"\\nMean Squared Errors (MSE):\\n\", mse_df)\n",
    "print(\"\\nRoot Mean Squared Errors (RMSE):\\n\", rmse_df)\n",
    "\n",
    "# Plotting R² Scores\n",
    "ax = r2_df.plot(kind='bar', figsize=(15, 6), colormap='viridis')\n",
    "plt.title('Model R² Scores with Different Scalers', fontsize=14)\n",
    "plt.ylabel('R² Score', fontsize=12)\n",
    "plt.xlabel('Models', fontsize=12)\n",
    "plt.xticks(rotation=0)\n",
    "plt.legend(title=\"Scaler\", fontsize=10)\n",
    "\n",
    "# Add text labels on top of each bar\n",
    "for container in ax.containers:\n",
    "    ax.bar_label(container, fmt='%.3f', label_type='edge', fontsize=10)\n",
    "\n",
    "plt.tight_layout()\n",
    "plt.show()\n"
   ]
  },
  {
   "cell_type": "code",
   "execution_count": null,
   "metadata": {},
   "outputs": [],
   "source": [
    "# Plotting MSE Scores\n",
    "ax = mse_df.plot(kind='bar', figsize=(15, 6), colormap='viridis')\n",
    "plt.title('Model MSE with Different Scalers', fontsize=14)\n",
    "plt.ylabel('MSE', fontsize=12)\n",
    "plt.xlabel('Models', fontsize=12)\n",
    "plt.xticks(rotation=0)\n",
    "plt.legend(title=\"Scaler\", fontsize=10)\n",
    "\n",
    "# Add text labels on top of each bar\n",
    "for container in ax.containers:\n",
    "    ax.bar_label(container, fmt='%.3f', label_type='edge', fontsize=10)"
   ]
  },
  {
   "cell_type": "code",
   "execution_count": null,
   "metadata": {},
   "outputs": [],
   "source": [
    "# Plotting RMSE Scores\n",
    "ax = rmse_df.plot(kind='bar', figsize=(15, 6), colormap='viridis')\n",
    "plt.title('Model RMSE with Different Scalers', fontsize=14)\n",
    "plt.ylabel('RMSE', fontsize=12)\n",
    "plt.xlabel('Models', fontsize=12)\n",
    "plt.xticks(rotation=0)\n",
    "plt.legend(title=\"Scaler\", fontsize=10)\n",
    "\n",
    "# Add text labels on top of each bar\n",
    "for container in ax.containers:\n",
    "    ax.bar_label(container, fmt='%.3f', label_type='edge', fontsize=10)"
   ]
  }
 ],
 "metadata": {
  "kernelspec": {
   "display_name": "3.12.6",
   "language": "python",
   "name": "python3"
  },
  "language_info": {
   "codemirror_mode": {
    "name": "ipython",
    "version": 3
   },
   "file_extension": ".py",
   "mimetype": "text/x-python",
   "name": "python",
   "nbconvert_exporter": "python",
   "pygments_lexer": "ipython3",
   "version": "3.12.6"
  }
 },
 "nbformat": 4,
 "nbformat_minor": 2
}
